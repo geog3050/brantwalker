{
 "cells": [
  {
   "cell_type": "code",
   "execution_count": 1,
   "metadata": {},
   "outputs": [],
   "source": [
    "import arcpy "
   ]
  },
  {
   "cell_type": "code",
   "execution_count": 2,
   "metadata": {},
   "outputs": [],
   "source": [
    "arcpy.env.overwriteOutput = True"
   ]
  },
  {
   "cell_type": "code",
   "execution_count": null,
   "metadata": {},
   "outputs": [],
   "source": [
    "#calculatePercentAreaOfPolygonAInPolygonB(input_geodatabase, fcPolygon1, fcPolygon2):\n",
    "\n",
    "#Given an input polygon feature class, fcPolygonA (e.g., parks), and a second feature class, fcPolygonB (e.g., block_groups) :\n",
    "\n",
    "#Calculate the percentage of the area of the first polygon features (fcPolygonA ) in the second polygon features (fcPolygonB), and \n",
    "#append the percentage of park area into a new field in the block groups feature class\n",
    "#Make sure that your area calculations are as accurate as possible. "
   ]
  },
  {
   "cell_type": "code",
   "execution_count": 46,
   "metadata": {},
   "outputs": [],
   "source": [
    "def calculatePercentAreaOfPolygonAinPolygonB(input_geodatabase, fcPolygon1, fcPolygon2):\n",
    "    desc1 = arcpy.Describe(fcPolygon1)\n",
    "    desc2 = arcpy.Describe(fcPolygon2)\n",
    "    desc3 = arcpy.Describe(input_geodatabase)\n",
    "    \n",
    "    if desc1.shapeType != \"Polygon\" or desc2.shapeType != \"Polygon\":\n",
    "        print(\"You need to input polygons.\")\n",
    "    \n",
    "    if desc3.dataType != \"Workspace\":\n",
    "        print(\"You need to input a geodatabase or workspace.\")\n",
    "    \n",
    "    #Continue on if the files were given correctly\n",
    "    else:\n",
    "        \n",
    "        #intersect the two feature classes into one\n",
    "        #Need to do this, especially when second feature class is block groups,\n",
    "        #so we can add up all the parks in each specific block\n",
    "        \n",
    "        a_intersect_b = \"fcPolygon1_intersect_fcPolygon2\"\n",
    "        arcpy.Intersect_analysis([fcPolygon2, fcPolygon1], a_intersect_b)\n",
    "        \n",
    "        \n",
    "        #Create a field to hold the area calculation\n",
    "        input_area_field = \"fcPolygon1_area_sq_meters\"\n",
    "        arcpy.AddField_management(a_intersect_b, input_area_field, \"DOUBLE\")\n",
    "\n",
    "        #Calculate the area of the field \n",
    "        arcpy.CalculateGeometryAttributes_management(a_intersect_b, \n",
    "                                                         [[input_area_field, \"AREA_GEODESIC\"]], \n",
    "                                                         \"METERS\")\n",
    "\n",
    "        #get one fcPolygon1 area value for each block group (i.e. add them up)\n",
    "        \n",
    "        #Use dictionary, has unique keys, to add up area in each block group\n",
    "        fcPolygon2_dict = {}\n",
    "        \n",
    "        #find the GEOID or FIPS field\n",
    "        geoid_field = \"\"\n",
    "        for field in arcpy.ListFields(fcPolygon2):\n",
    "            #already found a geoid\n",
    "            if geoid_field == \"\":\n",
    "                if \"geoid\" in field.name.lower():\n",
    "                    geoid_field = field.name\n",
    "                elif \"fips\" in field.name.lower():\n",
    "                    geoid_field = field.name\n",
    "                    \n",
    "                else:\n",
    "                    \"There is no GEOID or FIPS code in fcPolygon2\"\n",
    "        \n",
    "        #use search cursor to go through each intersected item\n",
    "        with arcpy.da.SearchCursor(a_intersect_b, [geoid_field, input_area_field]) as cursor:\n",
    "            for row in cursor:\n",
    "                #get the geoid value\n",
    "                geoid = row[0]\n",
    "                \n",
    "                #check if geoid exists in dictionary, if so, add to it, if not, create a new key\n",
    "                if geoid in fcPolygon2_dict.keys():\n",
    "                    fcPolygon2_dict[geoid] += row[1]\n",
    "                else:\n",
    "                    fcPolygon2_dict[geoid] = row[1]\n",
    "                    \n",
    "        del row\n",
    "        del cursor\n",
    "        \n",
    "        #create new field in fcPolygon 2 to hold our intersected Area value\n",
    "        fc1_area_field = \"fcPolygon1_area_sq_meters\"\n",
    "        arcpy.AddField_management(fcPolygon2, fc1_area_field, \"DOUBLE\")\n",
    "        \n",
    "        #use update cursor to fill in values of the field we just created\n",
    "        with arcpy.da.UpdateCursor(fcPolygon2, [geoid_field, fc1_area_field]) as cursor:\n",
    "            for row in cursor:\n",
    "                #if geoid is in dictionary, add its value, otherwise add a zero\n",
    "                if row[0] in fcPolygon2_dict.keys():\n",
    "                    row[1] = fcPolygon2_dict[row[0]]\n",
    "                else: \n",
    "                    row[1] = 0\n",
    "                    \n",
    "                #update it\n",
    "                cursor.updateRow(row)\n",
    "        \n",
    "        del row\n",
    "        del cursor\n",
    "        \n",
    "        #Create a new field to hold our calculated area percentage\n",
    "        fc1_pct_field = \"fcPolygon1_pct_area_sq_meters\"\n",
    "        arcpy.AddField_management(fcPolygon2, fc1_pct_field, \"DOUBLE\")\n",
    "        \n",
    "        #Calculate the field's area\n",
    "        \n",
    "        #find Polygon 2's area field name, otherwise create it\n",
    "        fc2_area_field = \"\"\n",
    "        for field in arcpy.ListFeatureClasses(fcPolygon2):\n",
    "            if fc2_area_field == \"\":\n",
    "                if \"area\" in field.name.lower():\n",
    "                    fc2_area_field = field.name\n",
    "                    \n",
    "        #check if area field is still not found\n",
    "        if fc2_area_field == \"\":\n",
    "            #create the area field\n",
    "            arcpy.AddField_management(fcPolygon2, \"area_sq_meters\", \"DOUBLE\")\n",
    "            arcpy.CalculateGeometryAttributes_management(fcPolygon2, [[\"area_sq_meters\", \"AREA_GEODESIC\"]],\n",
    "                                                        \"METERS\")\n",
    "            fc2_area_field = \"area_sq_meters\"\n",
    "            \n",
    "        #Calculate the field\n",
    "        \n",
    "        #create expression for the calculation \n",
    "        expression = \"!\" + fc1_area_field + \"!/!\" + fc2_area_field + \"!\"\n",
    "        print(expression)\n",
    "        \n",
    "        arcpy.CalculateField_management(fcPolygon2, fc1_pct_field, expression, \"PYTHON3\")\n",
    "            "
   ]
  },
  {
   "cell_type": "code",
   "execution_count": 47,
   "metadata": {},
   "outputs": [
    {
     "name": "stdout",
     "output_type": "stream",
     "text": [
      "!fcPolygon1_area_sq_meters!/!area_sq_meters!\n"
     ]
    }
   ],
   "source": [
    "calculatePercentAreaOfPolygonAinPolygonB(r\"C:\\Users\\Brant Walker\\OneDrive - University of Iowa\\CurrentClasses\\Geospatial Programming\\Quizzes\\quiz5.gdb\\quiz5.gdb\", r\"C:\\Users\\Brant Walker\\OneDrive - University of Iowa\\CurrentClasses\\Geospatial Programming\\Quizzes\\quiz5.gdb\\quiz5.gdb\\parks\", r\"C:\\Users\\Brant Walker\\OneDrive - University of Iowa\\CurrentClasses\\Geospatial Programming\\Quizzes\\quiz5.gdb\\quiz5.gdb\\block_groups\")"
   ]
  },
  {
   "cell_type": "code",
   "execution_count": 37,
   "metadata": {},
   "outputs": [],
   "source": [
    "geoid_field = \"\"\n",
    "for field in arcpy.ListFields(r\"C:\\Users\\Brant Walker\\OneDrive - University of Iowa\\CurrentClasses\\Geospatial Programming\\Quizzes\\quiz5.gdb\\quiz5.gdb\\block_groups\"):\n",
    "     #already found a geoid\n",
    "    if geoid_field == \"\":\n",
    "        if \"geoid\" in field.name.lower():\n",
    "            geoid_field = field\n",
    "        elif \"fips\" in field.name.lower():\n",
    "            geoid_field = field\n",
    "                    \n",
    "    else:\n",
    "        \"There is no GEOID or FIPS code in fcPolygon2\""
   ]
  }
 ],
 "metadata": {
  "kernelspec": {
   "display_name": "ArcGISPro",
   "language": "Python",
   "name": "python3"
  },
  "language_info": {
   "file_extension": ".py",
   "name": "python",
   "version": "3"
  }
 },
 "nbformat": 4,
 "nbformat_minor": 2
}
